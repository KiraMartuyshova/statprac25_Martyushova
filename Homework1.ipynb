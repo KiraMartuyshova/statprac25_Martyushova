{
 "cells": [
  {
   "cell_type": "markdown",
   "metadata": {},
   "source": [
    "## Problem 1"
   ]
  },
  {
   "cell_type": "markdown",
   "metadata": {},
   "source": [
    "Make a tuple containing natural numbers, the square of which is a multiple of 3, 4, but not a multiple of 8 and not exceeding 12345."
   ]
  },
  {
   "cell_type": "markdown",
   "metadata": {},
   "source": [
    "Для решения задачи будем генерировать кортеж, проверять делится ли квадрат числа на 3, делится ли квадрат числа на 4, не делится ли квадрат числа на 8 и выводить соответствющий результат "
   ]
  },
  {
   "cell_type": "code",
   "execution_count": 54,
   "metadata": {},
   "outputs": [
    {
     "name": "stdout",
     "output_type": "stream",
     "text": [
      "(6, 18, 30, 42, 54, 66, 78, 90, 102, 114, 126, 138, 150, 162, 174, 186, 198, 210, 222, 234, 246, 258, 270, 282, 294, 306, 318, 330, 342, 354, 366, 378, 390, 402, 414, 426, 438, 450, 462, 474, 486, 498, 510, 522, 534, 546, 558, 570, 582, 594, 606, 618, 630, 642, 654, 666, 678, 690, 702, 714, 726, 738, 750, 762, 774, 786, 798, 810, 822, 834, 846, 858, 870, 882, 894, 906, 918, 930, 942, 954, 966, 978, 990, 1002, 1014, 1026, 1038, 1050, 1062, 1074, 1086, 1098, 1110, 1122, 1134, 1146, 1158, 1170, 1182, 1194, 1206, 1218, 1230, 1242, 1254, 1266, 1278, 1290, 1302, 1314, 1326, 1338, 1350, 1362, 1374, 1386, 1398, 1410, 1422, 1434, 1446, 1458, 1470, 1482, 1494, 1506, 1518, 1530, 1542, 1554, 1566, 1578, 1590, 1602, 1614, 1626, 1638, 1650, 1662, 1674, 1686, 1698, 1710, 1722, 1734, 1746, 1758, 1770, 1782, 1794, 1806, 1818, 1830, 1842, 1854, 1866, 1878, 1890, 1902, 1914, 1926, 1938, 1950, 1962, 1974, 1986, 1998, 2010, 2022, 2034, 2046, 2058, 2070, 2082, 2094, 2106, 2118, 2130, 2142, 2154, 2166, 2178, 2190, 2202, 2214, 2226, 2238, 2250, 2262, 2274, 2286, 2298, 2310, 2322, 2334, 2346, 2358, 2370, 2382, 2394, 2406, 2418, 2430, 2442, 2454, 2466, 2478, 2490, 2502, 2514, 2526, 2538, 2550, 2562, 2574, 2586, 2598, 2610, 2622, 2634, 2646, 2658, 2670, 2682, 2694, 2706, 2718, 2730, 2742, 2754, 2766, 2778, 2790, 2802, 2814, 2826, 2838, 2850, 2862, 2874, 2886, 2898, 2910, 2922, 2934, 2946, 2958, 2970, 2982, 2994, 3006, 3018, 3030, 3042, 3054, 3066, 3078, 3090, 3102, 3114, 3126, 3138, 3150, 3162, 3174, 3186, 3198, 3210, 3222, 3234, 3246, 3258, 3270, 3282, 3294, 3306, 3318, 3330, 3342, 3354, 3366, 3378, 3390, 3402, 3414, 3426, 3438, 3450, 3462, 3474, 3486, 3498, 3510, 3522, 3534, 3546, 3558, 3570, 3582, 3594, 3606, 3618, 3630, 3642, 3654, 3666, 3678, 3690, 3702, 3714, 3726, 3738, 3750, 3762, 3774, 3786, 3798, 3810, 3822, 3834, 3846, 3858, 3870, 3882, 3894, 3906, 3918, 3930, 3942, 3954, 3966, 3978, 3990, 4002, 4014, 4026, 4038, 4050, 4062, 4074, 4086, 4098, 4110, 4122, 4134, 4146, 4158, 4170, 4182, 4194, 4206, 4218, 4230, 4242, 4254, 4266, 4278, 4290, 4302, 4314, 4326, 4338, 4350, 4362, 4374, 4386, 4398, 4410, 4422, 4434, 4446, 4458, 4470, 4482, 4494, 4506, 4518, 4530, 4542, 4554, 4566, 4578, 4590, 4602, 4614, 4626, 4638, 4650, 4662, 4674, 4686, 4698, 4710, 4722, 4734, 4746, 4758, 4770, 4782, 4794, 4806, 4818, 4830, 4842, 4854, 4866, 4878, 4890, 4902, 4914, 4926, 4938, 4950, 4962, 4974, 4986, 4998, 5010, 5022, 5034, 5046, 5058, 5070, 5082, 5094, 5106, 5118, 5130, 5142, 5154, 5166, 5178, 5190, 5202, 5214, 5226, 5238, 5250, 5262, 5274, 5286, 5298, 5310, 5322, 5334, 5346, 5358, 5370, 5382, 5394, 5406, 5418, 5430, 5442, 5454, 5466, 5478, 5490, 5502, 5514, 5526, 5538, 5550, 5562, 5574, 5586, 5598, 5610, 5622, 5634, 5646, 5658, 5670, 5682, 5694, 5706, 5718, 5730, 5742, 5754, 5766, 5778, 5790, 5802, 5814, 5826, 5838, 5850, 5862, 5874, 5886, 5898, 5910, 5922, 5934, 5946, 5958, 5970, 5982, 5994, 6006, 6018, 6030, 6042, 6054, 6066, 6078, 6090, 6102, 6114, 6126, 6138, 6150, 6162, 6174, 6186, 6198, 6210, 6222, 6234, 6246, 6258, 6270, 6282, 6294, 6306, 6318, 6330, 6342, 6354, 6366, 6378, 6390, 6402, 6414, 6426, 6438, 6450, 6462, 6474, 6486, 6498, 6510, 6522, 6534, 6546, 6558, 6570, 6582, 6594, 6606, 6618, 6630, 6642, 6654, 6666, 6678, 6690, 6702, 6714, 6726, 6738, 6750, 6762, 6774, 6786, 6798, 6810, 6822, 6834, 6846, 6858, 6870, 6882, 6894, 6906, 6918, 6930, 6942, 6954, 6966, 6978, 6990, 7002, 7014, 7026, 7038, 7050, 7062, 7074, 7086, 7098, 7110, 7122, 7134, 7146, 7158, 7170, 7182, 7194, 7206, 7218, 7230, 7242, 7254, 7266, 7278, 7290, 7302, 7314, 7326, 7338, 7350, 7362, 7374, 7386, 7398, 7410, 7422, 7434, 7446, 7458, 7470, 7482, 7494, 7506, 7518, 7530, 7542, 7554, 7566, 7578, 7590, 7602, 7614, 7626, 7638, 7650, 7662, 7674, 7686, 7698, 7710, 7722, 7734, 7746, 7758, 7770, 7782, 7794, 7806, 7818, 7830, 7842, 7854, 7866, 7878, 7890, 7902, 7914, 7926, 7938, 7950, 7962, 7974, 7986, 7998, 8010, 8022, 8034, 8046, 8058, 8070, 8082, 8094, 8106, 8118, 8130, 8142, 8154, 8166, 8178, 8190, 8202, 8214, 8226, 8238, 8250, 8262, 8274, 8286, 8298, 8310, 8322, 8334, 8346, 8358, 8370, 8382, 8394, 8406, 8418, 8430, 8442, 8454, 8466, 8478, 8490, 8502, 8514, 8526, 8538, 8550, 8562, 8574, 8586, 8598, 8610, 8622, 8634, 8646, 8658, 8670, 8682, 8694, 8706, 8718, 8730, 8742, 8754, 8766, 8778, 8790, 8802, 8814, 8826, 8838, 8850, 8862, 8874, 8886, 8898, 8910, 8922, 8934, 8946, 8958, 8970, 8982, 8994, 9006, 9018, 9030, 9042, 9054, 9066, 9078, 9090, 9102, 9114, 9126, 9138, 9150, 9162, 9174, 9186, 9198, 9210, 9222, 9234, 9246, 9258, 9270, 9282, 9294, 9306, 9318, 9330, 9342, 9354, 9366, 9378, 9390, 9402, 9414, 9426, 9438, 9450, 9462, 9474, 9486, 9498, 9510, 9522, 9534, 9546, 9558, 9570, 9582, 9594, 9606, 9618, 9630, 9642, 9654, 9666, 9678, 9690, 9702, 9714, 9726, 9738, 9750, 9762, 9774, 9786, 9798, 9810, 9822, 9834, 9846, 9858, 9870, 9882, 9894, 9906, 9918, 9930, 9942, 9954, 9966, 9978, 9990, 10002, 10014, 10026, 10038, 10050, 10062, 10074, 10086, 10098, 10110, 10122, 10134, 10146, 10158, 10170, 10182, 10194, 10206, 10218, 10230, 10242, 10254, 10266, 10278, 10290, 10302, 10314, 10326, 10338, 10350, 10362, 10374, 10386, 10398, 10410, 10422, 10434, 10446, 10458, 10470, 10482, 10494, 10506, 10518, 10530, 10542, 10554, 10566, 10578, 10590, 10602, 10614, 10626, 10638, 10650, 10662, 10674, 10686, 10698, 10710, 10722, 10734, 10746, 10758, 10770, 10782, 10794, 10806, 10818, 10830, 10842, 10854, 10866, 10878, 10890, 10902, 10914, 10926, 10938, 10950, 10962, 10974, 10986, 10998, 11010, 11022, 11034, 11046, 11058, 11070, 11082, 11094, 11106, 11118, 11130, 11142, 11154, 11166, 11178, 11190, 11202, 11214, 11226, 11238, 11250, 11262, 11274, 11286, 11298, 11310, 11322, 11334, 11346, 11358, 11370, 11382, 11394, 11406, 11418, 11430, 11442, 11454, 11466, 11478, 11490, 11502, 11514, 11526, 11538, 11550, 11562, 11574, 11586, 11598, 11610, 11622, 11634, 11646, 11658, 11670, 11682, 11694, 11706, 11718, 11730, 11742, 11754, 11766, 11778, 11790, 11802, 11814, 11826, 11838, 11850, 11862, 11874, 11886, 11898, 11910, 11922, 11934, 11946, 11958, 11970, 11982, 11994, 12006, 12018, 12030, 12042, 12054, 12066, 12078, 12090, 12102, 12114, 12126, 12138, 12150, 12162, 12174, 12186, 12198, 12210, 12222, 12234, 12246, 12258, 12270, 12282, 12294, 12306, 12318, 12330, 12342)\n"
     ]
    }
   ],
   "source": [
    "a = tuple(i for i in range(12346) if (i*i)%3 == 0 and (i*i)%4 == 0 and (i*i)%8 != 0)\n",
    "print(a)"
   ]
  },
  {
   "cell_type": "markdown",
   "metadata": {},
   "source": [
    "## Problem 2"
   ]
  },
  {
   "cell_type": "markdown",
   "metadata": {},
   "source": [
    "\n",
    "Write a function that takes a two-dimensional array and a string as input and returns an array rotated 90 degrees counterclockwise if the string 'left' was passed, and clockwise if the string 'right' was passed.\n",
    "\n",
    "Example for input: $\\begin{bmatrix} 1 & 2 & 3 \\\\ 4 & 5 & 6 \\\\ 7 & 8 & 9 \\end{bmatrix}$.\\\n",
    "If the string 'left' is passed, the function should return $\\begin{bmatrix} 3 & 6 & 9 \\\\ 2 & 5 & 8 \\\\ 1 & 4 & 7 \\end{bmatrix}$, and if the string 'right' is passed, the function should return $\\begin{bmatrix} 7 & 4 & 1 \\\\ 8 & 5 & 2 \\\\ 9 & 6 & 3 \\end{bmatrix}$."
   ]
  },
  {
   "cell_type": "code",
   "execution_count": 55,
   "metadata": {},
   "outputs": [
    {
     "name": "stdout",
     "output_type": "stream",
     "text": [
      "[[3, 6, 9], [2, 5, 8], [1, 4, 7]]\n",
      "[[7, 4, 1], [8, 5, 2], [9, 6, 3]]\n"
     ]
    }
   ],
   "source": [
    "def rot(m, a):\n",
    "    if a == 'left':\n",
    "        return [list(row) for row in zip(*m)][::-1] #транспонируем матрицу и делаем список строк, затем переворачиваем список, чтобы получить поворот на 90 градусов\n",
    "    elif a == 'right':\n",
    "        return [list(row) for row in zip(*m[::-1])] #переворачиваем список строк исходной матрицы, а затем транспонируем\n",
    "    \n",
    "m = [[1, 2, 3], [4, 5, 6], [7, 8, 9]]\n",
    "\n",
    "print(rot(m, 'left')) \n",
    "print(rot(m, 'right'))"
   ]
  },
  {
   "cell_type": "markdown",
   "metadata": {},
   "source": [
    "## Problem 3"
   ]
  },
  {
   "cell_type": "markdown",
   "metadata": {},
   "source": [
    "Write a function that takes a string as input and returns a dictionary containing the number of occurrences of each character in the string.\n",
    "\n",
    "Example for the string 'hello, world!': {'h': 1, 'e': 1, 'l': 3, 'o': 2, ',': 1, ' ': 1, 'w': 1, 'r': 1, 'd': 1, '!': 1}."
   ]
  },
  {
   "cell_type": "code",
   "execution_count": 56,
   "metadata": {},
   "outputs": [
    {
     "name": "stdout",
     "output_type": "stream",
     "text": [
      "{'h': 1, 'e': 1, 'l': 3, 'o': 2, ',': 1, ' ': 1, 'w': 1, 'r': 1, 'd': 1, '!': 1}\n"
     ]
    }
   ],
   "source": [
    "def char_count(s): \n",
    "    a = {} #создаем пустой словарь\n",
    "    for char in s:\n",
    "        a[char] = a.get(char, 0) + 1 #проходим по каждому символу и используем get, а если символ не встречался ранее, то возвращаем 0 и увеличиваем счетчик на 1\n",
    "    return a\n",
    "\n",
    "ex = 'hello, world!'\n",
    "print(char_count(ex))"
   ]
  },
  {
   "cell_type": "markdown",
   "metadata": {},
   "source": [
    "## Problem 4"
   ]
  },
  {
   "cell_type": "markdown",
   "metadata": {},
   "source": [
    "### Implementing a Library Management System\n",
    "\n",
    "#### Description\n",
    "\n",
    "You are required to design and implement a system for managing books and users in a library. The system should allow for the management of books (adding, deleting, searching by various criteria) and users (registration, deletion, searching), as well as tracking the history of interactions between them (issuing and returning books).\n",
    "\n",
    "#### Tasks\n",
    "\n",
    "1. **`Book` Class**:\n",
    "   - Attributes: title, author, year of publication, ISBN, number of copies.\n",
    "   - Methods: constructor, methods to get information about the book, method to change the number of copies (when issuing and returning books).\n",
    "\n",
    "2. **`User` Class**:\n",
    "   - Attributes: user name, library card number, list of borrowed books.\n",
    "   - Methods: constructor, methods for user registration, methods for adding and removing books from the borrowed list.\n",
    "\n",
    "3. **`Library` Class**:\n",
    "   - Attributes: list of books, list of users, transaction history (who, when, which book was borrowed and returned).\n",
    "   - Methods: constructor, methods for adding and deleting books and users, methods for issuing and returning books, searching for books and users by various criteria, method to display the transaction history.\n",
    "\n",
    "#### Assignment\n",
    "\n",
    "1. Implement the `Book`, `User`, and `Library` classes with the specified attributes and methods.\n",
    "2. Create several books and users, and add them to the library system.\n",
    "3. Implement scenarios for issuing books to users and their return.\n",
    "4. Display the transaction history to show how books were issued and returned.\n"
   ]
  },
  {
   "cell_type": "code",
   "execution_count": 57,
   "metadata": {},
   "outputs": [
    {
     "name": "stdout",
     "output_type": "stream",
     "text": [
      "\n",
      "История транзакций:\n",
      "Иван Иванов взял книгу: Война и мир\n",
      "Иван Иванов вернул книгу: Война и мир\n",
      "\n",
      "Найденные книги: ['Название: Евгений Онегин, Автор: Александр Пушкин, Год издания: 2023, ISBN: 978-5-001-95977-9, Количество копий: 10']\n",
      "\n",
      "Найденные пользователи: ['Иван Иванов']\n"
     ]
    }
   ],
   "source": [
    "class Book:\n",
    "    def __init__(self, title, author, year, isbn, num): #Инициализация книги\n",
    "        self.title = title\n",
    "        self.author = author\n",
    "        self.year = year\n",
    "        self.isbn = isbn\n",
    "        self.num = num\n",
    "\n",
    "    def get_info(self): #Метод для получения информации о книге\n",
    "        return f\"Название: {self.title}, Автор: {self.author}, Год издания: {self.year}, ISBN: {self.isbn}, Количество копий: {self.num}\"\n",
    "\n",
    "    def cop(self, change): #Изменение количества копий книги\n",
    "        self.num += change\n",
    "\n",
    "\n",
    "class User:\n",
    "    def __init__(self, name, card): #Инициализация пользователя\n",
    "        self.name = name\n",
    "        self.card = card\n",
    "        self.books = []\n",
    "\n",
    "    def borrow_book(self, book): #Метод для добавления книги, если есть доступные копии\n",
    "        if book.num > 0:\n",
    "            self.books.append(book)\n",
    "            book.cop(-1)  #уменьшаем количество копий книги\n",
    "            return True\n",
    "        return False\n",
    "\n",
    "    def return_book(self, book): #Метод для возврата книги\n",
    "        if book in self.books:\n",
    "            self.books.remove(book)\n",
    "            book.cop(1)  #увеличиваем количество копий книги\n",
    "            return True\n",
    "        return False\n",
    "\n",
    "    def get_books(self): #Метод для получения списка взятых книг\n",
    "        return [book.title for book in self.books]\n",
    "\n",
    "\n",
    "class Library:\n",
    "    def __init__(self): #Инициализация библиотеки с пустыми списками книг и пользователей, а также истории транзакций\n",
    "        self.books = []\n",
    "        self.users = []\n",
    "        self.transaction_history = []\n",
    "\n",
    "    def add_book(self, book): #Метод для добавления книги\n",
    "        self.books.append(book)\n",
    "\n",
    "    def remove_book(self, book): # Метод для удаления книги\n",
    "        if book in self.books:\n",
    "            self.books.remove(book)\n",
    "\n",
    "    def add_user(self, user): #Метод для добавления пользователя\n",
    "        self.users.append(user)\n",
    "\n",
    "    def remove_user(self, user): #Метод для удаления пользователя\n",
    "        if user in self.users:\n",
    "            self.users.remove(user)\n",
    "\n",
    "    def issue_book(self, user, book): #Метод для выдачи книги\n",
    "        if user.borrow_book(book):\n",
    "            self.transaction_history.append(f\"{user.name} взял книгу: {book.title}\")\n",
    "            return True\n",
    "        return False\n",
    "\n",
    "    def return_book(self, user, book): #Метод для возврата книги\n",
    "        if user.return_book(book):\n",
    "            self.transaction_history.append(f\"{user.name} вернул книгу: {book.title}\")\n",
    "            return True\n",
    "        return False\n",
    "\n",
    "    def search_books(self, title=None, author=None, year=None, isbn=None): #Метод для поиска книг по различным критериям\n",
    "        result = self.books\n",
    "        if title:\n",
    "            result = [book for book in result if title.lower() in book.title.lower()]\n",
    "        if author:\n",
    "            result = [book for book in result if author.lower() in book.author.lower()]\n",
    "        if year:\n",
    "            result = [book for book in result if book.year == year]\n",
    "        if isbn:\n",
    "            result = [book for book in result if book.isbn == isbn]\n",
    "        return result\n",
    "\n",
    "    def search_users(self, name=None, card=None): #Метод для поиска пользователей по имени или номеру\n",
    "        result = self.users\n",
    "        if name:\n",
    "            result = [user for user in result if name.lower() in user.name.lower()]\n",
    "        if card:\n",
    "            result = [user for user in result if user.card == card]\n",
    "        return result\n",
    "\n",
    "    def history(self): #Метод для отображения истории транзакций\n",
    "        return self.transaction_history\n",
    "\n",
    "\n",
    "#Пример\n",
    "library = Library()\n",
    "\n",
    "b1 = Book(\"Война и мир\", \"Лев Толстой\", 2013, \"978-5-389-06256-6\", 5)\n",
    "b2 = Book(\"Евгений Онегин\", \"Александр Пушкин\", 2023, \"978-5-001-95977-9\", 10)\n",
    "\n",
    "#добавляем книги в библиотеку\n",
    "library.add_book(b1)\n",
    "library.add_book(b2)\n",
    "\n",
    "#создаем пользователей\n",
    "user1 = User(\"Иван Иванов\", \"66666\")\n",
    "user2 = User(\"Петр Сидоров\", \"77777\")\n",
    "\n",
    "#добавляем пользователей в библиотеку\n",
    "library.add_user(user1)\n",
    "library.add_user(user2)\n",
    "\n",
    "#пользователь берет книгу\n",
    "library.issue_book(user1, b1)\n",
    "\n",
    "#пользователь возвращает книгу\n",
    "library.return_book(user1, b1)\n",
    "\n",
    "#показываем историю транзакций\n",
    "print(\"\\nИстория транзакций:\")\n",
    "for transaction in library.history():\n",
    "    print(transaction)\n",
    "\n",
    "#поиск книг и пользователей\n",
    "found_books = library.search_books(title=\"Евгений Онегин\")\n",
    "found_users = library.search_users(name=\"Иван\")\n",
    "\n",
    "print(\"\\nНайденные книги:\", [book.get_info() for book in found_books])\n",
    "print(\"\\nНайденные пользователи:\", [user.name for user in found_users])"
   ]
  },
  {
   "cell_type": "markdown",
   "metadata": {},
   "source": [
    "## Problem 5*"
   ]
  },
  {
   "cell_type": "markdown",
   "metadata": {},
   "source": [
    "Explain why list `b` changes after the execution of the following code:\n",
    "\n",
    "```python\n",
    "a = [1, 2, 3]\n",
    "b = a\n",
    "a[0] = 4\n",
    "print(b)\n",
    "```"
   ]
  },
  {
   "cell_type": "markdown",
   "metadata": {},
   "source": [
    "После \"b = a\" b изменяется, потому что обе переменные теперь ссылаются на один и тот же объект, то есть изменения, сделанные через одну переменную, отражаются и на другой."
   ]
  },
  {
   "cell_type": "markdown",
   "metadata": {},
   "source": [
    "## Problem 6*"
   ]
  },
  {
   "cell_type": "markdown",
   "metadata": {},
   "source": [
    "Let\n",
    "$$A = \\sum_{i=1}^{10000} \\frac{1}{i^2},\\quad B=\\sum_{i=10000}^{1} \\frac{1}{i^2}.$$\n",
    "Calculate the values of $A$ and $B$ and compare them. What do you observe? Explain why this happens. What is the best way to calculate the value of $\\sum\\limits_{i=1}^{10000} \\dfrac{1}{i^2}$?"
   ]
  },
  {
   "cell_type": "code",
   "execution_count": 59,
   "metadata": {},
   "outputs": [
    {
     "name": "stdout",
     "output_type": "stream",
     "text": [
      "1.6448340718480652\n",
      "1.6448340718480596\n",
      "5.551115123125783e-15\n"
     ]
    }
   ],
   "source": [
    "A = sum(1 / i**2 for i in range(1, 10001))\n",
    "B = sum(1 / i**2 for i in range(10000, 0, -1))\n",
    "print(A)\n",
    "print(B)\n",
    "print(A-B)"
   ]
  },
  {
   "cell_type": "markdown",
   "metadata": {},
   "source": [
    "Ответ двух сумм немного отличается из-за погрешности вычислений чисел с плавающей точкой, так как при вычислении сумм A и B с разным порядком индексов могут быть разные промежуточные результаты из-за особенностей округления на каждом шаге.\n",
    "Чтобы уменьшить погрешность вычислений нужно изменить порядок вычислений так: сначала можно вычислить более мелкие слагаемые, а потом постепенно добавлять более крупные, чтобы минимизировать накопление ошибок округления."
   ]
  }
 ],
 "metadata": {
  "kernelspec": {
   "display_name": "Python 3",
   "language": "python",
   "name": "python3"
  },
  "language_info": {
   "codemirror_mode": {
    "name": "ipython",
    "version": 3
   },
   "file_extension": ".py",
   "mimetype": "text/x-python",
   "name": "python",
   "nbconvert_exporter": "python",
   "pygments_lexer": "ipython3",
   "version": "3.11.9"
  }
 },
 "nbformat": 4,
 "nbformat_minor": 2
}
