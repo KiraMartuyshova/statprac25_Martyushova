{
 "cells": [
  {
   "cell_type": "markdown",
   "metadata": {},
   "source": [
    "## Problem 1"
   ]
  },
  {
   "cell_type": "markdown",
   "metadata": {},
   "source": [
    "Make a tuple containing natural numbers, the square of which is a multiple of 3, 4, but not a multiple of 8 and not exceeding 12345."
   ]
  },
  {
   "cell_type": "markdown",
   "metadata": {},
   "source": [
    "Для решения задачи будем генерировать кортеж, проверять делится ли квадрат числа на 3, делится ли квадрат числа на 4, не делится ли квадрат числа на 8 и выводить соответствющий результат "
   ]
  },
  {
   "cell_type": "code",
   "execution_count": 1,
   "metadata": {},
   "outputs": [
    {
     "name": "stdout",
     "output_type": "stream",
     "text": [
      "(6, 18, 30, 42, 54, 66, 78, 90, 102)\n"
     ]
    }
   ],
   "source": [
    "a = tuple(i for i in range(int(12345**0.5) + 1) if (i*i) <= 12345 and (i*i) % 3 == 0 and (i*i) % 4 == 0 and (i*i) % 8 != 0)\n",
    "print(a)"
   ]
  },
  {
   "cell_type": "markdown",
   "metadata": {},
   "source": [
    "## Problem 2"
   ]
  },
  {
   "cell_type": "markdown",
   "metadata": {},
   "source": [
    "\n",
    "Write a function that takes a two-dimensional array and a string as input and returns an array rotated 90 degrees counterclockwise if the string 'left' was passed, and clockwise if the string 'right' was passed.\n",
    "\n",
    "Example for input: $\\begin{bmatrix} 1 & 2 & 3 \\\\ 4 & 5 & 6 \\\\ 7 & 8 & 9 \\end{bmatrix}$.\\\n",
    "If the string 'left' is passed, the function should return $\\begin{bmatrix} 3 & 6 & 9 \\\\ 2 & 5 & 8 \\\\ 1 & 4 & 7 \\end{bmatrix}$, and if the string 'right' is passed, the function should return $\\begin{bmatrix} 7 & 4 & 1 \\\\ 8 & 5 & 2 \\\\ 9 & 6 & 3 \\end{bmatrix}$."
   ]
  },
  {
   "cell_type": "code",
   "execution_count": 55,
   "metadata": {},
   "outputs": [
    {
     "name": "stdout",
     "output_type": "stream",
     "text": [
      "[[3, 6, 9], [2, 5, 8], [1, 4, 7]]\n",
      "[[7, 4, 1], [8, 5, 2], [9, 6, 3]]\n"
     ]
    }
   ],
   "source": [
    "def rot(m, a):\n",
    "    if a == 'left':\n",
    "        return [list(row) for row in zip(*m)][::-1] #транспонируем матрицу и делаем список строк, затем переворачиваем список, чтобы получить поворот на 90 градусов\n",
    "    elif a == 'right':\n",
    "        return [list(row) for row in zip(*m[::-1])] #переворачиваем список строк исходной матрицы, а затем транспонируем\n",
    "    \n",
    "m = [[1, 2, 3], [4, 5, 6], [7, 8, 9]]\n",
    "\n",
    "print(rot(m, 'left')) \n",
    "print(rot(m, 'right'))"
   ]
  },
  {
   "cell_type": "markdown",
   "metadata": {},
   "source": [
    "## Problem 3"
   ]
  },
  {
   "cell_type": "markdown",
   "metadata": {},
   "source": [
    "Write a function that takes a string as input and returns a dictionary containing the number of occurrences of each character in the string.\n",
    "\n",
    "Example for the string 'hello, world!': {'h': 1, 'e': 1, 'l': 3, 'o': 2, ',': 1, ' ': 1, 'w': 1, 'r': 1, 'd': 1, '!': 1}."
   ]
  },
  {
   "cell_type": "code",
   "execution_count": 56,
   "metadata": {},
   "outputs": [
    {
     "name": "stdout",
     "output_type": "stream",
     "text": [
      "{'h': 1, 'e': 1, 'l': 3, 'o': 2, ',': 1, ' ': 1, 'w': 1, 'r': 1, 'd': 1, '!': 1}\n"
     ]
    }
   ],
   "source": [
    "def char_count(s): \n",
    "    a = {} #создаем пустой словарь\n",
    "    for char in s:\n",
    "        a[char] = a.get(char, 0) + 1 #проходим по каждому символу и используем get, а если символ не встречался ранее, то возвращаем 0 и увеличиваем счетчик на 1\n",
    "    return a\n",
    "\n",
    "ex = 'hello, world!'\n",
    "print(char_count(ex))"
   ]
  },
  {
   "cell_type": "markdown",
   "metadata": {},
   "source": [
    "## Problem 4"
   ]
  },
  {
   "cell_type": "markdown",
   "metadata": {},
   "source": [
    "### Implementing a Library Management System\n",
    "\n",
    "#### Description\n",
    "\n",
    "You are required to design and implement a system for managing books and users in a library. The system should allow for the management of books (adding, deleting, searching by various criteria) and users (registration, deletion, searching), as well as tracking the history of interactions between them (issuing and returning books).\n",
    "\n",
    "#### Tasks\n",
    "\n",
    "1. **`Book` Class**:\n",
    "   - Attributes: title, author, year of publication, ISBN, number of copies.\n",
    "   - Methods: constructor, methods to get information about the book, method to change the number of copies (when issuing and returning books).\n",
    "\n",
    "2. **`User` Class**:\n",
    "   - Attributes: user name, library card number, list of borrowed books.\n",
    "   - Methods: constructor, methods for user registration, methods for adding and removing books from the borrowed list.\n",
    "\n",
    "3. **`Library` Class**:\n",
    "   - Attributes: list of books, list of users, transaction history (who, when, which book was borrowed and returned).\n",
    "   - Methods: constructor, methods for adding and deleting books and users, methods for issuing and returning books, searching for books and users by various criteria, method to display the transaction history.\n",
    "\n",
    "#### Assignment\n",
    "\n",
    "1. Implement the `Book`, `User`, and `Library` classes with the specified attributes and methods.\n",
    "2. Create several books and users, and add them to the library system.\n",
    "3. Implement scenarios for issuing books to users and their return.\n",
    "4. Display the transaction history to show how books were issued and returned.\n"
   ]
  },
  {
   "cell_type": "code",
   "execution_count": 57,
   "metadata": {},
   "outputs": [
    {
     "name": "stdout",
     "output_type": "stream",
     "text": [
      "\n",
      "История транзакций:\n",
      "Иван Иванов взял книгу: Война и мир\n",
      "Иван Иванов вернул книгу: Война и мир\n",
      "\n",
      "Найденные книги: ['Название: Евгений Онегин, Автор: Александр Пушкин, Год издания: 2023, ISBN: 978-5-001-95977-9, Количество копий: 10']\n",
      "\n",
      "Найденные пользователи: ['Иван Иванов']\n"
     ]
    }
   ],
   "source": [
    "class Book:\n",
    "    def __init__(self, title, author, year, isbn, num): #Инициализация книги\n",
    "        self.title = title\n",
    "        self.author = author\n",
    "        self.year = year\n",
    "        self.isbn = isbn\n",
    "        self.num = num\n",
    "\n",
    "    def get_info(self): #Метод для получения информации о книге\n",
    "        return f\"Название: {self.title}, Автор: {self.author}, Год издания: {self.year}, ISBN: {self.isbn}, Количество копий: {self.num}\"\n",
    "\n",
    "    def cop(self, change): #Изменение количества копий книги\n",
    "        self.num += change\n",
    "\n",
    "\n",
    "class User:\n",
    "    def __init__(self, name, card): #Инициализация пользователя\n",
    "        self.name = name\n",
    "        self.card = card\n",
    "        self.books = []\n",
    "\n",
    "    def borrow_book(self, book): #Метод для добавления книги, если есть доступные копии\n",
    "        if book.num > 0:\n",
    "            self.books.append(book)\n",
    "            book.cop(-1)  #уменьшаем количество копий книги\n",
    "            return True\n",
    "        return False\n",
    "\n",
    "    def return_book(self, book): #Метод для возврата книги\n",
    "        if book in self.books:\n",
    "            self.books.remove(book)\n",
    "            book.cop(1)  #увеличиваем количество копий книги\n",
    "            return True\n",
    "        return False\n",
    "\n",
    "    def get_books(self): #Метод для получения списка взятых книг\n",
    "        return [book.title for book in self.books]\n",
    "\n",
    "\n",
    "class Library:\n",
    "    def __init__(self): #Инициализация библиотеки с пустыми списками книг и пользователей, а также истории транзакций\n",
    "        self.books = []\n",
    "        self.users = []\n",
    "        self.transaction_history = []\n",
    "\n",
    "    def add_book(self, book): #Метод для добавления книги\n",
    "        self.books.append(book)\n",
    "\n",
    "    def remove_book(self, book): # Метод для удаления книги\n",
    "        if book in self.books:\n",
    "            self.books.remove(book)\n",
    "\n",
    "    def add_user(self, user): #Метод для добавления пользователя\n",
    "        self.users.append(user)\n",
    "\n",
    "    def remove_user(self, user): #Метод для удаления пользователя\n",
    "        if user in self.users:\n",
    "            self.users.remove(user)\n",
    "\n",
    "    def issue_book(self, user, book): #Метод для выдачи книги\n",
    "        if user.borrow_book(book):\n",
    "            self.transaction_history.append(f\"{user.name} взял книгу: {book.title}\")\n",
    "            return True\n",
    "        return False\n",
    "\n",
    "    def return_book(self, user, book): #Метод для возврата книги\n",
    "        if user.return_book(book):\n",
    "            self.transaction_history.append(f\"{user.name} вернул книгу: {book.title}\")\n",
    "            return True\n",
    "        return False\n",
    "\n",
    "    def search_books(self, title=None, author=None, year=None, isbn=None): #Метод для поиска книг по различным критериям\n",
    "        result = self.books\n",
    "        if title:\n",
    "            result = [book for book in result if title.lower() in book.title.lower()]\n",
    "        if author:\n",
    "            result = [book for book in result if author.lower() in book.author.lower()]\n",
    "        if year:\n",
    "            result = [book for book in result if book.year == year]\n",
    "        if isbn:\n",
    "            result = [book for book in result if book.isbn == isbn]\n",
    "        return result\n",
    "\n",
    "    def search_users(self, name=None, card=None): #Метод для поиска пользователей по имени или номеру\n",
    "        result = self.users\n",
    "        if name:\n",
    "            result = [user for user in result if name.lower() in user.name.lower()]\n",
    "        if card:\n",
    "            result = [user for user in result if user.card == card]\n",
    "        return result\n",
    "\n",
    "    def history(self): #Метод для отображения истории транзакций\n",
    "        return self.transaction_history\n",
    "\n",
    "\n",
    "#Пример\n",
    "library = Library()\n",
    "\n",
    "b1 = Book(\"Война и мир\", \"Лев Толстой\", 2013, \"978-5-389-06256-6\", 5)\n",
    "b2 = Book(\"Евгений Онегин\", \"Александр Пушкин\", 2023, \"978-5-001-95977-9\", 10)\n",
    "\n",
    "#добавляем книги в библиотеку\n",
    "library.add_book(b1)\n",
    "library.add_book(b2)\n",
    "\n",
    "#создаем пользователей\n",
    "user1 = User(\"Иван Иванов\", \"66666\")\n",
    "user2 = User(\"Петр Сидоров\", \"77777\")\n",
    "\n",
    "#добавляем пользователей в библиотеку\n",
    "library.add_user(user1)\n",
    "library.add_user(user2)\n",
    "\n",
    "#пользователь берет книгу\n",
    "library.issue_book(user1, b1)\n",
    "\n",
    "#пользователь возвращает книгу\n",
    "library.return_book(user1, b1)\n",
    "\n",
    "#показываем историю транзакций\n",
    "print(\"\\nИстория транзакций:\")\n",
    "for transaction in library.history():\n",
    "    print(transaction)\n",
    "\n",
    "#поиск книг и пользователей\n",
    "found_books = library.search_books(title=\"Евгений Онегин\")\n",
    "found_users = library.search_users(name=\"Иван\")\n",
    "\n",
    "print(\"\\nНайденные книги:\", [book.get_info() for book in found_books])\n",
    "print(\"\\nНайденные пользователи:\", [user.name for user in found_users])"
   ]
  },
  {
   "cell_type": "markdown",
   "metadata": {},
   "source": [
    "## Problem 5*"
   ]
  },
  {
   "cell_type": "markdown",
   "metadata": {},
   "source": [
    "Explain why list `b` changes after the execution of the following code:\n",
    "\n",
    "```python\n",
    "a = [1, 2, 3]\n",
    "b = a\n",
    "a[0] = 4\n",
    "print(b)\n",
    "```"
   ]
  },
  {
   "cell_type": "markdown",
   "metadata": {},
   "source": [
    "После \"b = a\" b изменяется, потому что обе переменные теперь ссылаются на один и тот же объект, то есть изменения, сделанные через одну переменную, отражаются и на другой."
   ]
  },
  {
   "cell_type": "markdown",
   "metadata": {},
   "source": [
    "## Problem 6*"
   ]
  },
  {
   "cell_type": "markdown",
   "metadata": {},
   "source": [
    "Let\n",
    "$$A = \\sum_{i=1}^{10000} \\frac{1}{i^2},\\quad B=\\sum_{i=10000}^{1} \\frac{1}{i^2}.$$\n",
    "Calculate the values of $A$ and $B$ and compare them. What do you observe? Explain why this happens. What is the best way to calculate the value of $\\sum\\limits_{i=1}^{10000} \\dfrac{1}{i^2}$?"
   ]
  },
  {
   "cell_type": "code",
   "execution_count": 59,
   "metadata": {},
   "outputs": [
    {
     "name": "stdout",
     "output_type": "stream",
     "text": [
      "1.6448340718480652\n",
      "1.6448340718480596\n",
      "5.551115123125783e-15\n"
     ]
    }
   ],
   "source": [
    "A = sum(1 / i**2 for i in range(1, 10001))\n",
    "B = sum(1 / i**2 for i in range(10000, 0, -1))\n",
    "print(A)\n",
    "print(B)\n",
    "print(A-B)"
   ]
  },
  {
   "cell_type": "markdown",
   "metadata": {},
   "source": [
    "Ответ двух сумм немного отличается из-за погрешности вычислений чисел с плавающей точкой, так как при вычислении сумм A и B с разным порядком индексов могут быть разные промежуточные результаты из-за особенностей округления на каждом шаге.\n",
    "Чтобы уменьшить погрешность вычислений нужно изменить порядок вычислений так: сначала можно вычислить более мелкие слагаемые, а потом постепенно добавлять более крупные, чтобы минимизировать накопление ошибок округления."
   ]
  }
 ],
 "metadata": {
  "kernelspec": {
   "display_name": "Python 3",
   "language": "python",
   "name": "python3"
  },
  "language_info": {
   "codemirror_mode": {
    "name": "ipython",
    "version": 3
   },
   "file_extension": ".py",
   "mimetype": "text/x-python",
   "name": "python",
   "nbconvert_exporter": "python",
   "pygments_lexer": "ipython3",
   "version": "3.11.9"
  }
 },
 "nbformat": 4,
 "nbformat_minor": 2
}
